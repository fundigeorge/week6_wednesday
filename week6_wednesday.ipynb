{
  "nbformat": 4,
  "nbformat_minor": 0,
  "metadata": {
    "colab": {
      "provenance": []
    },
    "kernelspec": {
      "name": "python3",
      "display_name": "Python 3"
    },
    "language_info": {
      "name": "python"
    }
  },
  "cells": [
    {
      "cell_type": "code",
      "execution_count": null,
      "metadata": {
        "id": "j6nVBfU1W_vW",
        "colab": {
          "base_uri": "https://localhost:8080/"
        },
        "outputId": "b164a775-545b-4f43-900c-7e2697ba986c"
      },
      "outputs": [
        {
          "output_type": "stream",
          "name": "stdout",
          "text": [
            "Looking in indexes: https://pypi.org/simple, https://us-python.pkg.dev/colab-wheels/public/simple/\n",
            "Requirement already satisfied: pyspark in /usr/local/lib/python3.8/dist-packages (3.3.1)\n",
            "Requirement already satisfied: py4j==0.10.9.5 in /usr/local/lib/python3.8/dist-packages (from pyspark) (0.10.9.5)\n"
          ]
        }
      ],
      "source": [
        "#installing pyspark\n",
        "!pip install pyspark"
      ]
    },
    {
      "cell_type": "code",
      "source": [
        "#start local spark session\n",
        "from pyspark.sql import SparkSession\n",
        "spark = SparkSession.builder.master(\"local[*]\").getOrCreate()\n",
        "sc = spark.sparkContext"
      ],
      "metadata": {
        "id": "rSZr4iK-XJCq"
      },
      "execution_count": null,
      "outputs": []
    },
    {
      "cell_type": "code",
      "source": [
        "##import sqlConteHight module\n",
        "from pyspark.sql import SQLContext\n",
        "from pyspark.sql.functions import *\n",
        "\n",
        "sqlCtx = SQLContext(sc)\n"
      ],
      "metadata": {
        "colab": {
          "base_uri": "https://localhost:8080/"
        },
        "id": "pBJ2zLfBfp7N",
        "outputId": "9e177ef8-1528-41e8-a342-9b42aebf1c71"
      },
      "execution_count": null,
      "outputs": [
        {
          "output_type": "stream",
          "name": "stderr",
          "text": [
            "/usr/local/lib/python3.8/dist-packages/pyspark/sql/context.py:112: FutureWarning: Deprecated in 3.0.0. Use SparkSession.builder.getOrCreate() instead.\n",
            "  warnings.warn(\n"
          ]
        }
      ]
    },
    {
      "cell_type": "code",
      "source": [
        "#read the data into spark dataframe\n",
        "stock_sdf = sqlCtx.read.csv('saf_stock.csv', header=True, inferSchema=True)\n",
        "\n"
      ],
      "metadata": {
        "id": "XaS2IOK4hUeY"
      },
      "execution_count": null,
      "outputs": []
    },
    {
      "cell_type": "code",
      "source": [
        "#olumns name\n",
        "print(stock_sdf.columns)\n",
        "#the inferred schema\n",
        "print(stock_sdf.printSchema())\n",
        "#preview first five\n",
        "stock_sdf.show(5)\n"
      ],
      "metadata": {
        "colab": {
          "base_uri": "https://localhost:8080/"
        },
        "id": "atrZyExAmklS",
        "outputId": "8214700f-6784-498b-dfe0-fdc4779d85f9"
      },
      "execution_count": null,
      "outputs": [
        {
          "output_type": "stream",
          "name": "stdout",
          "text": [
            "['Date', 'Open', 'High', 'Low', 'Close', 'Volume', 'Adj Close']\n",
            "root\n",
            " |-- Date: timestamp (nullable = true)\n",
            " |-- Open: double (nullable = true)\n",
            " |-- High: double (nullable = true)\n",
            " |-- Low: double (nullable = true)\n",
            " |-- Close: double (nullable = true)\n",
            " |-- Volume: integer (nullable = true)\n",
            " |-- Adj Close: double (nullable = true)\n",
            "\n",
            "None\n",
            "+-------------------+------------------+---------+---------+------------------+--------+------------------+\n",
            "|               Date|              Open|     High|      Low|             Close|  Volume|         Adj Close|\n",
            "+-------------------+------------------+---------+---------+------------------+--------+------------------+\n",
            "|2012-01-03 00:00:00|         59.970001|61.060001|59.869999|         60.330002|12668800|52.619234999999996|\n",
            "|2012-01-04 00:00:00|60.209998999999996|60.349998|59.470001|59.709998999999996| 9593300|         52.078475|\n",
            "|2012-01-05 00:00:00|         59.349998|59.619999|58.369999|         59.419998|12768200|         51.825539|\n",
            "|2012-01-06 00:00:00|         59.419998|59.450001|58.869999|              59.0| 8069400|          51.45922|\n",
            "|2012-01-09 00:00:00|         59.029999|59.549999|58.919998|             59.18| 6679300|51.616215000000004|\n",
            "+-------------------+------------------+---------+---------+------------------+--------+------------------+\n",
            "only showing top 5 rows\n",
            "\n"
          ]
        }
      ]
    },
    {
      "cell_type": "code",
      "source": [
        "#describe the data\n",
        "stock_sdf.describe().show()"
      ],
      "metadata": {
        "colab": {
          "base_uri": "https://localhost:8080/"
        },
        "id": "b4WgJfTVpBcC",
        "outputId": "47f241ca-96ea-4e0f-948b-33b37bbc7ccc"
      },
      "execution_count": null,
      "outputs": [
        {
          "output_type": "stream",
          "name": "stdout",
          "text": [
            "+-------+------------------+-----------------+-----------------+-----------------+-----------------+-----------------+\n",
            "|summary|              Open|             High|              Low|            Close|           Volume|        Adj Close|\n",
            "+-------+------------------+-----------------+-----------------+-----------------+-----------------+-----------------+\n",
            "|  count|              1258|             1258|             1258|             1258|             1258|             1258|\n",
            "|   mean| 72.35785375357709|72.83938807631165| 71.9186009594594|72.38844998012726|8222093.481717011|67.23883848728146|\n",
            "| stddev|  6.76809024470826|6.768186808159218|6.744075756255496|6.756859163732991|  4519780.8431556|6.722609449996857|\n",
            "|    min|56.389998999999996|        57.060001|        56.299999|        56.419998|          2094900|        50.363689|\n",
            "|    max|         90.800003|        90.970001|            89.25|        90.470001|         80898100|84.91421600000001|\n",
            "+-------+------------------+-----------------+-----------------+-----------------+-----------------+-----------------+\n",
            "\n"
          ]
        }
      ]
    },
    {
      "cell_type": "code",
      "source": [
        "# #read the data into RDD object\n",
        "# saf_stock_raw = sc.teHightFile('saf_stock.csv')\n",
        "# saf_stock = saf_stock_raw.map(lambda line: line.split(','))\n",
        "# saf_stock.take(5)\n"
      ],
      "metadata": {
        "id": "nw5SEeIgYUSX"
      },
      "execution_count": null,
      "outputs": []
    },
    {
      "cell_type": "code",
      "source": [
        "# stock_sdf = stock_sdf.withColumn('High', round(stock_sdf.High, 2))\n",
        "stock_sdf.show()"
      ],
      "metadata": {
        "colab": {
          "base_uri": "https://localhost:8080/"
        },
        "id": "KtcZ3__ASwCv",
        "outputId": "b291478c-1a6c-4f9d-c7e2-c894c2a7e347"
      },
      "execution_count": null,
      "outputs": [
        {
          "output_type": "stream",
          "name": "stdout",
          "text": [
            "+-------------------+------------------+------------------+------------------+------------------+--------+------------------+\n",
            "|               Date|              Open|              High|               Low|             Close|  Volume|         Adj Close|\n",
            "+-------------------+------------------+------------------+------------------+------------------+--------+------------------+\n",
            "|2012-01-03 00:00:00|         59.970001|         61.060001|         59.869999|         60.330002|12668800|52.619234999999996|\n",
            "|2012-01-04 00:00:00|60.209998999999996|         60.349998|         59.470001|59.709998999999996| 9593300|         52.078475|\n",
            "|2012-01-05 00:00:00|         59.349998|         59.619999|         58.369999|         59.419998|12768200|         51.825539|\n",
            "|2012-01-06 00:00:00|         59.419998|         59.450001|         58.869999|              59.0| 8069400|          51.45922|\n",
            "|2012-01-09 00:00:00|         59.029999|         59.549999|         58.919998|             59.18| 6679300|51.616215000000004|\n",
            "|2012-01-10 00:00:00|             59.43|59.709998999999996|             58.98|59.040001000000004| 6907300|         51.494109|\n",
            "|2012-01-11 00:00:00|         59.060001|         59.529999|59.040001000000004|         59.400002| 6365600|         51.808098|\n",
            "|2012-01-12 00:00:00|59.790001000000004|              60.0|         59.400002|              59.5| 7236400|51.895315999999994|\n",
            "|2012-01-13 00:00:00|             59.18|59.610001000000004|59.009997999999996|59.540001000000004| 7729300|51.930203999999996|\n",
            "|2012-01-17 00:00:00|         59.869999|60.110001000000004|             59.52|         59.849998| 8500000|         52.200581|\n",
            "|2012-01-18 00:00:00|59.790001000000004|         60.029999|         59.650002|60.009997999999996| 5911400|         52.340131|\n",
            "|2012-01-19 00:00:00|             59.93|             60.73|             59.75|60.610001000000004| 9234600|         52.863447|\n",
            "|2012-01-20 00:00:00|             60.75|             61.25|         60.669998|61.009997999999996|10378800|53.212320999999996|\n",
            "|2012-01-23 00:00:00|         60.810001|             60.98|60.509997999999996|             60.91| 7134100|         53.125104|\n",
            "|2012-01-24 00:00:00|             60.75|              62.0|             60.75|61.389998999999996| 7362800| 53.54375400000001|\n",
            "|2012-01-25 00:00:00|             61.18|61.610001000000004|61.040001000000004|         61.470001| 5915800| 53.61353100000001|\n",
            "|2012-01-26 00:00:00|         61.799999|             61.84|             60.77|         60.970001| 7436200|         53.177436|\n",
            "|2012-01-27 00:00:00|60.860001000000004|         61.119999|60.540001000000004|60.709998999999996| 6287300|         52.950665|\n",
            "|2012-01-30 00:00:00|         60.470001|             61.32|         60.349998|         61.299999| 7636900|53.465256999999994|\n",
            "|2012-01-31 00:00:00|         61.529999|             61.57|         60.580002|61.360001000000004| 9761500|53.517590000000006|\n",
            "+-------------------+------------------+------------------+------------------+------------------+--------+------------------+\n",
            "only showing top 20 rows\n",
            "\n"
          ]
        }
      ]
    },
    {
      "cell_type": "code",
      "source": [
        "#data formatting 2 decimal place\n",
        "# stock_sdf = stock_sdf.withColumn('adj_close', round(stock_sdf.adj_close, 2))\n",
        "\n",
        "for c in stock_sdf.columns[1:]:\n",
        "  stock_sdf = stock_sdf.withColumn(c, round(c, 2))\n",
        "#add column HV Ratio that is the ratio of the High Price versus volume of stock traded for a day\n",
        "mod_stock_sdf = stock_sdf.withColumn('HV Ratio', stock_sdf.High/stock_sdf.Volume)\n",
        "mod_stock_sdf.show()"
      ],
      "metadata": {
        "colab": {
          "base_uri": "https://localhost:8080/"
        },
        "id": "CdcW1busnXUL",
        "outputId": "121da3c3-2f9d-436a-b7ba-f3dfab6575ca"
      },
      "execution_count": null,
      "outputs": [
        {
          "output_type": "stream",
          "name": "stdout",
          "text": [
            "+-------------------+-----+-----+-----+-----+--------+---------+--------------------+\n",
            "|               Date| Open| High|  Low|Close|  Volume|Adj Close|            HV Ratio|\n",
            "+-------------------+-----+-----+-----+-----+--------+---------+--------------------+\n",
            "|2012-01-03 00:00:00|59.97|61.06|59.87|60.33|12668800|    52.62|4.819714574387472E-6|\n",
            "|2012-01-04 00:00:00|60.21|60.35|59.47|59.71| 9593300|    52.08|6.290848821573389...|\n",
            "|2012-01-05 00:00:00|59.35|59.62|58.37|59.42|12768200|    51.83|4.669413073103491E-6|\n",
            "|2012-01-06 00:00:00|59.42|59.45|58.87| 59.0| 8069400|    51.46|7.367338339901356E-6|\n",
            "|2012-01-09 00:00:00|59.03|59.55|58.92|59.18| 6679300|    51.62|8.915604928660188E-6|\n",
            "|2012-01-10 00:00:00|59.43|59.71|58.98|59.04| 6907300|    51.49|8.644477581688938E-6|\n",
            "|2012-01-11 00:00:00|59.06|59.53|59.04| 59.4| 6365600|    51.81| 9.35182857861003E-6|\n",
            "|2012-01-12 00:00:00|59.79| 60.0| 59.4| 59.5| 7236400|     51.9| 8.29141562102703E-6|\n",
            "|2012-01-13 00:00:00|59.18|59.61|59.01|59.54| 7729300|    51.93|7.712211972623653E-6|\n",
            "|2012-01-17 00:00:00|59.87|60.11|59.52|59.85| 8500000|     52.2|7.071764705882352...|\n",
            "|2012-01-18 00:00:00|59.79|60.03|59.65|60.01| 5911400|    52.34|1.015495483303447...|\n",
            "|2012-01-19 00:00:00|59.93|60.73|59.75|60.61| 9234600|    52.86|6.576354146362592...|\n",
            "|2012-01-20 00:00:00|60.75|61.25|60.67|61.01|10378800|    53.21| 5.90145296180676E-6|\n",
            "|2012-01-23 00:00:00|60.81|60.98|60.51|60.91| 7134100|    53.13|8.547679455011844E-6|\n",
            "|2012-01-24 00:00:00|60.75| 62.0|60.75|61.39| 7362800|    53.54|8.420709512685392E-6|\n",
            "|2012-01-25 00:00:00|61.18|61.61|61.04|61.47| 5915800|    53.61|1.041448324825044...|\n",
            "|2012-01-26 00:00:00| 61.8|61.84|60.77|60.97| 7436200|    53.18|8.316075414862431E-6|\n",
            "|2012-01-27 00:00:00|60.86|61.12|60.54|60.71| 6287300|    52.95|9.721183974042911E-6|\n",
            "|2012-01-30 00:00:00|60.47|61.32|60.35| 61.3| 7636900|    53.47|8.029436027707578E-6|\n",
            "|2012-01-31 00:00:00|61.53|61.57|60.58|61.36| 9761500|    53.52|6.307432259386365E-6|\n",
            "+-------------------+-----+-----+-----+-----+--------+---------+--------------------+\n",
            "only showing top 20 rows\n",
            "\n"
          ]
        }
      ]
    },
    {
      "cell_type": "code",
      "source": [
        "#register the dataframe as a table\n",
        "from pyspark.sql import SQLContext\n",
        "sqlCtHigh = SQLContext(sc)\n",
        "mod_stock_sdf.createOrReplaceTempView('mod_stock_table')\n",
        "sqlCtx.tableNames()\n",
        " "
      ],
      "metadata": {
        "colab": {
          "base_uri": "https://localhost:8080/"
        },
        "id": "vzbMt3ttXFow",
        "outputId": "318f820f-270c-4f2a-9cf8-9e3ec80f9f80"
      },
      "execution_count": null,
      "outputs": [
        {
          "output_type": "stream",
          "name": "stderr",
          "text": [
            "/usr/local/lib/python3.8/dist-packages/pyspark/sql/context.py:112: FutureWarning: Deprecated in 3.0.0. Use SparkSession.builder.getOrCreate() instead.\n",
            "  warnings.warn(\n"
          ]
        },
        {
          "output_type": "execute_result",
          "data": {
            "text/plain": [
              "['mod_stock_table']"
            ]
          },
          "metadata": {},
          "execution_count": 345
        }
      ]
    },
    {
      "cell_type": "code",
      "source": [
        "print(mod_stock_sdf.columns)"
      ],
      "metadata": {
        "colab": {
          "base_uri": "https://localhost:8080/"
        },
        "id": "04woAOlncVua",
        "outputId": "e6685f20-e809-4ef0-f3c2-51797708e2cd"
      },
      "execution_count": null,
      "outputs": [
        {
          "output_type": "stream",
          "name": "stdout",
          "text": [
            "['Date', 'Open', 'High', 'Low', 'Close', 'Volume', 'Adj Close', 'HV Ratio']\n"
          ]
        }
      ]
    },
    {
      "cell_type": "code",
      "source": [
        "#What day had the Peak High in Price\n",
        "query = \"\"\"\n",
        "select max(High), first(Date) as date\n",
        "from mod_stock_table\n",
        "\"\"\"\n",
        "sqlCtx.sql(query).show()"
      ],
      "metadata": {
        "colab": {
          "base_uri": "https://localhost:8080/"
        },
        "id": "FYjfhzS_cE2a",
        "outputId": "36c7b037-aa85-43c2-c8d6-466807be0cdc"
      },
      "execution_count": null,
      "outputs": [
        {
          "output_type": "stream",
          "name": "stdout",
          "text": [
            "+---------+-------------------+\n",
            "|max(High)|               date|\n",
            "+---------+-------------------+\n",
            "|    90.97|2012-01-03 00:00:00|\n",
            "+---------+-------------------+\n",
            "\n"
          ]
        }
      ]
    },
    {
      "cell_type": "code",
      "source": [
        "#mean of the Close column\n",
        "query = \"\"\"\n",
        "select mean(Close)\n",
        "from mod_stock_table\n",
        "\"\"\"\n",
        "sqlCtx.sql(query).show()"
      ],
      "metadata": {
        "colab": {
          "base_uri": "https://localhost:8080/"
        },
        "id": "sRc0V-ROdv73",
        "outputId": "76253987-7c65-4739-ab86-6a6053f8d808"
      },
      "execution_count": null,
      "outputs": [
        {
          "output_type": "stream",
          "name": "stdout",
          "text": [
            "+-----------------+\n",
            "|      mean(Close)|\n",
            "+-----------------+\n",
            "|72.38844992050863|\n",
            "+-----------------+\n",
            "\n"
          ]
        }
      ]
    },
    {
      "cell_type": "code",
      "source": [
        "#max and min of the Volume column\n",
        "query = \"\"\"\n",
        "select min(Volume), max(Volume)\n",
        "from mod_stock_table\n",
        "\"\"\"\n",
        "sqlCtx.sql(query).show()"
      ],
      "metadata": {
        "colab": {
          "base_uri": "https://localhost:8080/"
        },
        "id": "zdFVO0dHeJ4x",
        "outputId": "2ad9b690-0ffb-463c-e41a-a84efb8ca007"
      },
      "execution_count": null,
      "outputs": [
        {
          "output_type": "stream",
          "name": "stdout",
          "text": [
            "+-----------+-----------+\n",
            "|min(Volume)|max(Volume)|\n",
            "+-----------+-----------+\n",
            "|    2094900|   80898100|\n",
            "+-----------+-----------+\n",
            "\n"
          ]
        }
      ]
    },
    {
      "cell_type": "code",
      "source": [
        "##How many days was the Close lower than 60 dollars\n",
        "query = \"\"\"\n",
        "select count(Date)\n",
        "from mod_stock_table\n",
        "where Close <60\n",
        "\"\"\"\n",
        "sqlCtx.sql(query).show()"
      ],
      "metadata": {
        "colab": {
          "base_uri": "https://localhost:8080/"
        },
        "id": "cF3kBI_Nf4x4",
        "outputId": "93a1403f-7ffa-4fae-ee49-f1ca018dd15a"
      },
      "execution_count": null,
      "outputs": [
        {
          "output_type": "stream",
          "name": "stdout",
          "text": [
            "+-----------+\n",
            "|count(Date)|\n",
            "+-----------+\n",
            "|         81|\n",
            "+-----------+\n",
            "\n"
          ]
        }
      ]
    },
    {
      "cell_type": "code",
      "source": [
        "#percentage of the time was the High greater than 80 dollars\n",
        "total_days = mod_stock_sdf[['Date']].count()\n",
        "high_days = mod_stock_sdf[mod_stock_sdf['High']>80].count()\n",
        "perc_high = (high_days/total_days)*100\n",
        "perc_high"
      ],
      "metadata": {
        "colab": {
          "base_uri": "https://localhost:8080/"
        },
        "id": "9z2ns6VehRUF",
        "outputId": "aec69e7f-0e3a-4b7d-838d-89f0faa16500"
      },
      "execution_count": null,
      "outputs": [
        {
          "output_type": "execute_result",
          "data": {
            "text/plain": [
              "9.141494435612083"
            ]
          },
          "metadata": {},
          "execution_count": 353
        }
      ]
    },
    {
      "cell_type": "code",
      "source": [
        "#What is the Pearson correlation between High and Volume\n",
        "# from pyspark.ml.linalg import DenseMatrix, Vectors\n",
        "# from pyspark.ml.stat import Correlation\n",
        "\n",
        "# high_volume = mod_stock_sdf[['High', 'Volume']]\n",
        "# high_volume.show()\n",
        "# pearsonCorr = Correlation.corr(high_volume, 'Volume', 'pearson')\n",
        "# pearsonCorr\n",
        "\n",
        "query =\"\"\"\n",
        "SELECT ((SUM(High * Volume)– (SUM(High) * SUM(Volume)) / COUNT(*)))/(SQRT(SUM(High * High)–(SUM(High) * SUM (High)) / COUNT(*))* SQRT(SUM(Volume * Volume)– (SUM(Volume) * SUM(Volume)) / COUNT(*))) AS pearson\n",
        "FROM mod_stock_table\n",
        "\"\"\"\n",
        "sqlCtx.sql(query).show()"
      ],
      "metadata": {
        "id": "Nc_arLmRjzJK"
      },
      "execution_count": null,
      "outputs": []
    },
    {
      "cell_type": "code",
      "source": [
        "#What is the max High per year\n",
        "query = \"\"\"\n",
        "select YEAR(Date) as year, max(High) as high\n",
        "from mod_stock_table\n",
        "group by year\n",
        "\"\"\"\n",
        "\n",
        "sqlCtx.sql(query).show()"
      ],
      "metadata": {
        "colab": {
          "base_uri": "https://localhost:8080/"
        },
        "id": "wtQxqwe7jkqC",
        "outputId": "91e47021-3541-48b9-ab4c-5a4f8556e64c"
      },
      "execution_count": null,
      "outputs": [
        {
          "output_type": "stream",
          "name": "stdout",
          "text": [
            "+----+-----+\n",
            "|year| high|\n",
            "+----+-----+\n",
            "|2015|90.97|\n",
            "|2013|81.37|\n",
            "|2014|88.09|\n",
            "|2012| 77.6|\n",
            "|2016|75.19|\n",
            "+----+-----+\n",
            "\n"
          ]
        }
      ]
    },
    {
      "cell_type": "code",
      "source": [
        "#What is the average Close for each Calendar Month\n",
        "query = \"\"\"\n",
        "select mean(Close) as monthly_mean, MONTH(Date) as month\n",
        "from mod_stock_table\n",
        "group by month\n",
        "order by month\n",
        "\"\"\"\n",
        "\n",
        "sqlCtx.sql(query).show()"
      ],
      "metadata": {
        "colab": {
          "base_uri": "https://localhost:8080/"
        },
        "id": "m7fYnQ1_tqjo",
        "outputId": "750dbb16-b15b-4b15-bb8e-2ee5398f8836"
      },
      "execution_count": null,
      "outputs": [
        {
          "output_type": "stream",
          "name": "stdout",
          "text": [
            "+-----------------+-----+\n",
            "|     monthly_mean|month|\n",
            "+-----------------+-----+\n",
            "|71.44801980198022|    1|\n",
            "|71.30680412371134|    2|\n",
            "|71.77794392523363|    3|\n",
            "|72.97361904761907|    4|\n",
            "|72.30971698113206|    5|\n",
            "|72.49537735849057|    6|\n",
            "|74.43971962616824|    7|\n",
            "|73.02981818181819|    8|\n",
            "|72.18411764705883|    9|\n",
            "|71.57854545454546|   10|\n",
            "|72.11108910891085|   11|\n",
            "|72.84792452830189|   12|\n",
            "+-----------------+-----+\n",
            "\n"
          ]
        }
      ]
    }
  ]
}